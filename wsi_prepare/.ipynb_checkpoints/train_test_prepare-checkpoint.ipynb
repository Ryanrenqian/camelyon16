{
 "cells": [
  {
   "cell_type": "code",
   "execution_count": 21,
   "metadata": {},
   "outputs": [],
   "source": [
    "import glob\n",
    "import os\n",
    "from random import shuffle\n",
    "import json\n",
    "import multiprocessing"
   ]
  },
  {
   "cell_type": "code",
   "execution_count": 22,
   "metadata": {},
   "outputs": [],
   "source": [
    "import numpy as np\n",
    "import math\n",
    "import time\n",
    "import numpy as np\n",
    "import openslide\n",
    "import torch\n",
    "from torch.utils.data import Dataset\n",
    "from torch.utils.data import DataLoader\n",
    "from torch.autograd import Variable\n",
    "import time\n",
    "from PIL import Image,ImageDraw,ImageFont\n",
    "from skimage.color import rgb2hsv\n",
    "from skimage.filters import threshold_otsu\n",
    "import xml.etree.ElementTree as ET\n",
    "\n",
    "import os\n",
    "import multiprocessing\n",
    "import threading\n",
    "import glob\n",
    "\n",
    "from random import shuffle\n",
    "from skimage.measure import points_in_poly\n",
    "\n",
    "import pdb"
   ]
  },
  {
   "cell_type": "markdown",
   "metadata": {},
   "source": [
    "## 从已经切好的正负样本中，划分train和test"
   ]
  },
  {
   "cell_type": "code",
   "execution_count": 9,
   "metadata": {},
   "outputs": [],
   "source": [
    "img_root = '/root/workspace/dataset/CAMELYON16/code/wsi_patches/train/folder'\n",
    "img_test_root = '/root/workspace/dataset/CAMELYON16/code/wsi_patches/test/folder'\n",
    "img_test_new_root = '/root/workspace/dataset/CAMELYON16/code/wsi_patches/test/folder_new'"
   ]
  },
  {
   "cell_type": "code",
   "execution_count": 10,
   "metadata": {},
   "outputs": [
    {
     "name": "stdout",
     "output_type": "stream",
     "text": [
      "940056\n"
     ]
    }
   ],
   "source": [
    "image_list = glob.glob(os.path.join(img_root, '*.png'))\n",
    "print(len(image_list))"
   ]
  },
  {
   "cell_type": "code",
   "execution_count": 11,
   "metadata": {},
   "outputs": [
    {
     "name": "stdout",
     "output_type": "stream",
     "text": [
      "4862524\n"
     ]
    }
   ],
   "source": [
    "image_test_list = glob.glob(os.path.join(img_test_root, '*.png'))\n",
    "print(len(image_test_list))"
   ]
  },
  {
   "cell_type": "code",
   "execution_count": 12,
   "metadata": {},
   "outputs": [
    {
     "name": "stdout",
     "output_type": "stream",
     "text": [
      "1999546\n"
     ]
    }
   ],
   "source": [
    "image_test_new_list = glob.glob(os.path.join(img_test_new_root, '*.png'))\n",
    "print(len(image_test_new_list))"
   ]
  },
  {
   "cell_type": "code",
   "execution_count": 13,
   "metadata": {},
   "outputs": [],
   "source": [
    "image_list_to_generate = image_test_list"
   ]
  },
  {
   "cell_type": "code",
   "execution_count": 14,
   "metadata": {},
   "outputs": [],
   "source": [
    "# shuffle(image_list)"
   ]
  },
  {
   "cell_type": "code",
   "execution_count": 15,
   "metadata": {},
   "outputs": [],
   "source": [
    "tumor, normal, hard = 0, 0, 0 \n",
    "for image in image_list_to_generate:\n",
    "    if os.path.basename(image).startswith('tumor'):\n",
    "        tumor += 1\n",
    "        continue\n",
    "    if os.path.basename(image).startswith('normal'):\n",
    "        normal += 1\n",
    "        continue\n",
    "    hard += 1"
   ]
  },
  {
   "cell_type": "code",
   "execution_count": 16,
   "metadata": {},
   "outputs": [
    {
     "data": {
      "text/plain": [
       "(0, 0, 4862524)"
      ]
     },
     "execution_count": 16,
     "metadata": {},
     "output_type": "execute_result"
    }
   ],
   "source": [
    "tumor, normal, hard"
   ]
  },
  {
   "cell_type": "code",
   "execution_count": 19,
   "metadata": {},
   "outputs": [],
   "source": [
    "test_list = image_test_list"
   ]
  },
  {
   "cell_type": "code",
   "execution_count": 94,
   "metadata": {},
   "outputs": [
    {
     "name": "stdout",
     "output_type": "stream",
     "text": [
      "752044\n"
     ]
    }
   ],
   "source": [
    "s = int(940056*0.8)\n",
    "print(s)\n",
    "train_list = image_list[:s]\n",
    "test_list = image_list[s:]"
   ]
  },
  {
   "cell_type": "code",
   "execution_count": 162,
   "metadata": {},
   "outputs": [],
   "source": [
    "# 截取局部数据做测试\n",
    "s = 100000\n",
    "train_list = image_list[:s]\n",
    "test_list = image_list[s:120000]"
   ]
  },
  {
   "cell_type": "code",
   "execution_count": 122,
   "metadata": {},
   "outputs": [],
   "source": [
    "# train_list[:10]"
   ]
  },
  {
   "cell_type": "code",
   "execution_count": 96,
   "metadata": {},
   "outputs": [],
   "source": [
    "# 不包括hard部份\n",
    "train_dict = {}\n",
    "train_tumor, train_normal, train_hard_normal = 0, 0, 0 # number\n",
    "for train in train_list:\n",
    "    if os.path.basename(train).startswith('tumor'):\n",
    "        train_dict[train] = 1\n",
    "        train_tumor += 1\n",
    "    elif os.path.basename(train).startswith('normal'):\n",
    "        train_normal += 1\n",
    "        train_dict[train] = 0\n",
    "    elif os.path.basename(train).startswith('hard'):\n",
    "        train_hard_normal += 1\n",
    "        \n",
    "test_dict = {}\n",
    "test_tumor, test_normal, test_hard_normal = 0, 0, 0\n",
    "for test in test_list:\n",
    "    if os.path.basename(test).startswith('tumor'):\n",
    "        test_dict[test] = 1\n",
    "        test_tumor += 1\n",
    "    elif os.path.basename(test).startswith('normal'):\n",
    "        test_dict[test] = 0\n",
    "        test_normal += 1\n",
    "    elif os.path.basename(test).startswith('hard'):\n",
    "        test_hard_normal += 1"
   ]
  },
  {
   "cell_type": "code",
   "execution_count": 97,
   "metadata": {},
   "outputs": [
    {
     "name": "stdout",
     "output_type": "stream",
     "text": [
      "total:train_sample-580804, test_sample-0\n",
      " train:tumor-148800, normal-432004, hard-171240\n",
      " test:tumor-0, normal-0, hard-0\n"
     ]
    }
   ],
   "source": [
    "print('total:train_sample-%d, test_sample-%d\\n' % (len(train_dict), len(test_dict)), \n",
    "      'train:tumor-%d, normal-%d, hard-%d\\n' % (train_tumor, train_normal, train_hard_normal), \n",
    "      'test:tumor-%d, normal-%d, hard-%d' % (test_tumor, test_normal, test_hard_normal))"
   ]
  },
  {
   "cell_type": "code",
   "execution_count": 125,
   "metadata": {},
   "outputs": [],
   "source": [
    "f = open('./train_all_no_hard_mini_list.txt', 'w')\n",
    "f.writelines(json.dumps(train_dict))\n",
    "f.close()\n",
    "f = open('./test_all_no_hard_mini_list.txt', 'w')\n",
    "f.writelines(json.dumps(test_dict))\n",
    "f.close()"
   ]
  },
  {
   "cell_type": "code",
   "execution_count": 20,
   "metadata": {},
   "outputs": [],
   "source": [
    "# 生成test序列patch\n",
    "test_list = image_test_list\n",
    "test_dict = {}\n",
    "for test in test_list:\n",
    "    test_dict[test] = 0\n",
    "f = open('./test_mask_2_list.txt', 'w')\n",
    "f.writelines(json.dumps(test_dict))\n",
    "f.close()"
   ]
  },
  {
   "cell_type": "code",
   "execution_count": 21,
   "metadata": {},
   "outputs": [
    {
     "data": {
      "text/plain": [
       "'/root/workspace/dataset/CAMELYON16/code/wsi_patches/test/folder/test_014.tif_test_064800_086048.png'"
      ]
     },
     "execution_count": 21,
     "metadata": {},
     "output_type": "execute_result"
    }
   ],
   "source": [
    "test_list[0]"
   ]
  },
  {
   "cell_type": "code",
   "execution_count": 147,
   "metadata": {},
   "outputs": [],
   "source": [
    "# 包括hard部份\n",
    "train_dict = {}\n",
    "train_tumor, train_normal, train_hard_normal = 0, 0, 0 # number\n",
    "for train in train_list:\n",
    "    if os.path.basename(train).startswith('tumor'):\n",
    "        train_dict[train] = 1\n",
    "        train_tumor += 1\n",
    "    elif os.path.basename(train).startswith('normal'):\n",
    "#         train_normal += 1\n",
    "#         train_dict[train] = 0\n",
    "        pass\n",
    "    elif os.path.basename(train).startswith('hard'):\n",
    "        train_hard_normal += 1\n",
    "        train_dict[train] = 0\n",
    "        \n",
    "test_dict = {}\n",
    "test_hard_dict = {}\n",
    "test_tumor, test_normal, test_hard_normal = 0, 0, 0\n",
    "for test in test_list:\n",
    "    if os.path.basename(test).startswith('tumor'):\n",
    "        test_dict[test] = 1\n",
    "        test_tumor += 1\n",
    "    elif os.path.basename(test).startswith('normal'):\n",
    "#         test_dict[test] = 0\n",
    "#         test_normal += 1\n",
    "        pass\n",
    "    elif os.path.basename(test).startswith('hard'):\n",
    "        test_hard_normal += 1\n",
    "        test_dict[test] = 0\n",
    "        test_hard_dict[test] = 0"
   ]
  },
  {
   "cell_type": "code",
   "execution_count": 146,
   "metadata": {},
   "outputs": [
    {
     "name": "stdout",
     "output_type": "stream",
     "text": [
      "total:train_sample-320123, test_sample-79933\n",
      " train:tumor-148817, normal-0, hard-171306\n",
      " test:tumor-37189, normal-0, hard-42744\n"
     ]
    }
   ],
   "source": [
    "print('total:train_sample-%d, test_sample-%d\\n' % (len(train_dict), len(test_dict)), \n",
    "      'train:tumor-%d, normal-%d, hard-%d\\n' % (train_tumor, train_normal, train_hard_normal), \n",
    "      'test:tumor-%d, normal-%d, hard-%d' % (test_tumor, test_normal, test_hard_normal))"
   ]
  },
  {
   "cell_type": "code",
   "execution_count": 152,
   "metadata": {},
   "outputs": [],
   "source": [
    "f = open('./train_all_only_hard_list.txt', 'w')\n",
    "f.writelines(json.dumps(train_dict))\n",
    "f.close()\n",
    "f = open('./test_all_only_hard_list.txt', 'w')\n",
    "f.writelines(json.dumps(test_dict))\n",
    "f.close()\n",
    "f = open('./test_all_hard.txt', 'w')\n",
    "f.writelines(json.dumps(test_dict))\n",
    "f.close()"
   ]
  },
  {
   "cell_type": "code",
   "execution_count": 148,
   "metadata": {},
   "outputs": [
    {
     "data": {
      "text/plain": [
       "[0, 0, 0, 0, 0, 0, 0, 0, 0, 0]"
      ]
     },
     "execution_count": 148,
     "metadata": {},
     "output_type": "execute_result"
    }
   ],
   "source": [
    "list(test_hard_dict.values())[:10]"
   ]
  },
  {
   "cell_type": "code",
   "execution_count": 149,
   "metadata": {},
   "outputs": [
    {
     "data": {
      "text/plain": [
       "['/root/workspace/dataset/CAMELYON16/code/wsi_patches/train/folder/hard_tumor_032.tif_049632_120928.png',\n",
       " '/root/workspace/dataset/CAMELYON16/code/wsi_patches/train/folder/hard_tumor_034.tif_063872_133920.png',\n",
       " '/root/workspace/dataset/CAMELYON16/code/wsi_patches/train/folder/hard_tumor_084.tif_020320_052160.png',\n",
       " '/root/workspace/dataset/CAMELYON16/code/wsi_patches/train/folder/hard_tumor_069.tif_062144_097056.png',\n",
       " '/root/workspace/dataset/CAMELYON16/code/wsi_patches/train/folder/hard_tumor_084.tif_019136_050976.png',\n",
       " '/root/workspace/dataset/CAMELYON16/code/wsi_patches/train/folder/hard_tumor_094.tif_080672_028480.png',\n",
       " '/root/workspace/dataset/CAMELYON16/code/wsi_patches/train/folder/hard_tumor_072.tif_090400_052992.png',\n",
       " '/root/workspace/dataset/CAMELYON16/code/wsi_patches/train/folder/hard_tumor_055.tif_068512_142176.png',\n",
       " '/root/workspace/dataset/CAMELYON16/code/wsi_patches/train/folder/hard_tumor_006.tif_055424_169088.png',\n",
       " '/root/workspace/dataset/CAMELYON16/code/wsi_patches/train/folder/hard_tumor_052.tif_043776_094368.png']"
      ]
     },
     "execution_count": 149,
     "metadata": {},
     "output_type": "execute_result"
    }
   ],
   "source": [
    "list(test_hard_dict.keys())[:10]"
   ]
  },
  {
   "cell_type": "code",
   "execution_count": null,
   "metadata": {},
   "outputs": [],
   "source": []
  },
  {
   "cell_type": "code",
   "execution_count": 113,
   "metadata": {},
   "outputs": [
    {
     "name": "stdout",
     "output_type": "stream",
     "text": [
      "cannot identify image file '/root/workspace/dataset/CAMELYON16/code/wsi_patches/test/folder_new/test_129.tif_test_005952_029536.png'\n",
      "Image error:/root/workspace/dataset/CAMELYON16/code/wsi_patches/test/folder_new/test_129.tif_test_005952_029536.png/n/n\n"
     ]
    }
   ],
   "source": [
    "path = '/root/workspace/dataset/CAMELYON16/code/wsi_patches/test/folder_new/test_129.tif_test_005952_029536.png'\n",
    "try:\n",
    "    img = Image.open(path)\n",
    "except Exception as e:\n",
    "    print(str(e))\n",
    "    print('Image error:%s/n/n' % path)\n"
   ]
  },
  {
   "cell_type": "code",
   "execution_count": null,
   "metadata": {},
   "outputs": [],
   "source": []
  },
  {
   "cell_type": "code",
   "execution_count": null,
   "metadata": {},
   "outputs": [],
   "source": []
  },
  {
   "cell_type": "code",
   "execution_count": 18,
   "metadata": {},
   "outputs": [],
   "source": [
    "lock = multiprocessing.Lock()"
   ]
  },
  {
   "cell_type": "code",
   "execution_count": null,
   "metadata": {},
   "outputs": [],
   "source": [
    "lock.acquire"
   ]
  },
  {
   "cell_type": "code",
   "execution_count": 63,
   "metadata": {},
   "outputs": [
    {
     "name": "stdout",
     "output_type": "stream",
     "text": [
      "[[69913.7, 131750.0, 72271.9, 134592.0], [69986.3, 122608.0, 73234.9, 127842.0]]\n",
      "[[67913.7, 129750.0, 74271.9, 136592.0], [67986.3, 120608.0, 75234.9, 129842.0]]\n",
      "1361.8989688455995 68\n",
      "68 272\n"
     ]
    }
   ],
   "source": [
    "visualize_zoom_annotaion()"
   ]
  },
  {
   "cell_type": "markdown",
   "metadata": {},
   "source": [
    "## 查看单张slide图的信息"
   ]
  },
  {
   "cell_type": "code",
   "execution_count": 88,
   "metadata": {},
   "outputs": [],
   "source": [
    "slide_path = '/root/workspace/dataset/CAMELYON17/training/images/patient_096_node_0.tif'\n",
    "slide = openslide.OpenSlide(slide_path)"
   ]
  },
  {
   "cell_type": "code",
   "execution_count": 89,
   "metadata": {},
   "outputs": [
    {
     "name": "stdout",
     "output_type": "stream",
     "text": [
      "((168448, 74240), (84480, 37376), (42496, 18944), (21504, 9216), (10752, 4608), (5632, 2560), (3072, 1536), (1536, 1024), (1024, 512), (512, 512))\n"
     ]
    }
   ],
   "source": [
    "print(slide.level_dimensions)"
   ]
  },
  {
   "cell_type": "code",
   "execution_count": 90,
   "metadata": {},
   "outputs": [
    {
     "data": {
      "text/plain": [
       "(52.64, 23.2)"
      ]
     },
     "execution_count": 90,
     "metadata": {},
     "output_type": "execute_result"
    }
   ],
   "source": [
    "(168448/3200, 74240/3200)"
   ]
  },
  {
   "cell_type": "markdown",
   "metadata": {},
   "source": [
    "## 查看目前切割的txt中，所有样本的总数"
   ]
  },
  {
   "cell_type": "code",
   "execution_count": 77,
   "metadata": {},
   "outputs": [],
   "source": [
    "txt_list = glob.glob('/root/workspace/dataset/CAMELYON16/code/wsi_coord_generate_save/testing/txt_new/*')\n",
    "txt_list.sort()"
   ]
  },
  {
   "cell_type": "code",
   "execution_count": 78,
   "metadata": {},
   "outputs": [],
   "source": [
    "total_patches = 0\n",
    "all_lines = {}\n",
    "for txt in txt_list:\n",
    "    f = open(txt, 'r')\n",
    "    lines = f.readlines()\n",
    "    all_lines[txt] = lines\n",
    "    f.close()\n",
    "    total_patches += len(lines)"
   ]
  },
  {
   "cell_type": "code",
   "execution_count": 79,
   "metadata": {},
   "outputs": [
    {
     "name": "stdout",
     "output_type": "stream",
     "text": [
      "129 1999547\n"
     ]
    }
   ],
   "source": [
    "print(len(all_lines), total_patches)"
   ]
  },
  {
   "cell_type": "code",
   "execution_count": null,
   "metadata": {},
   "outputs": [],
   "source": []
  },
  {
   "cell_type": "code",
   "execution_count": 49,
   "metadata": {},
   "outputs": [
    {
     "data": {
      "text/plain": [
       "129"
      ]
     },
     "execution_count": 49,
     "metadata": {},
     "output_type": "execute_result"
    }
   ],
   "source": [
    "len(txt_list)"
   ]
  },
  {
   "cell_type": "code",
   "execution_count": 66,
   "metadata": {},
   "outputs": [
    {
     "data": {
      "text/plain": [
       "31321"
      ]
     },
     "execution_count": 66,
     "metadata": {},
     "output_type": "execute_result"
    }
   ],
   "source": [
    "len(all_lines['/root/workspace/dataset/CAMELYON16/code/wsi_coord_generate_save/testing/txt_new/test_129.tif.txt'])\n",
    "              '/root/workspace/dataset/CAMELYON16/code/wsi_coord_generate_save/testing/txt_new/test_129.tif.txt'"
   ]
  },
  {
   "cell_type": "code",
   "execution_count": null,
   "metadata": {},
   "outputs": [],
   "source": []
  },
  {
   "cell_type": "code",
   "execution_count": 19,
   "metadata": {},
   "outputs": [
    {
     "data": {
      "text/plain": [
       "145268"
      ]
     },
     "execution_count": 19,
     "metadata": {},
     "output_type": "execute_result"
    }
   ],
   "source": [
    "f = open('/root/workspace/dataset/CAMELYON16/valid_all_no_hard_list.txt', 'r')\n",
    "lines = f.readlines()\n",
    "f.close()\n",
    "patch_list = json.loads(lines[0])\n",
    "len(patch_list)"
   ]
  },
  {
   "cell_type": "code",
   "execution_count": 20,
   "metadata": {},
   "outputs": [
    {
     "name": "stderr",
     "output_type": "stream",
     "text": [
      "100%|██████████| 10/10 [00:20<00:00,  2.00s/it]\n"
     ]
    }
   ],
   "source": [
    "import tqdm \n",
    "for i in tqdm.tqdm(range(10)):\n",
    "    time.sleep(2)"
   ]
  },
  {
   "cell_type": "code",
   "execution_count": null,
   "metadata": {},
   "outputs": [],
   "source": []
  },
  {
   "cell_type": "code",
   "execution_count": null,
   "metadata": {},
   "outputs": [],
   "source": []
  },
  {
   "cell_type": "code",
   "execution_count": null,
   "metadata": {},
   "outputs": [],
   "source": []
  },
  {
   "cell_type": "code",
   "execution_count": null,
   "metadata": {},
   "outputs": [],
   "source": []
  },
  {
   "cell_type": "code",
   "execution_count": null,
   "metadata": {},
   "outputs": [],
   "source": []
  },
  {
   "cell_type": "code",
   "execution_count": null,
   "metadata": {},
   "outputs": [],
   "source": []
  }
 ],
 "metadata": {
  "kernelspec": {
   "display_name": "Python 3",
   "language": "python",
   "name": "python3"
  },
  "language_info": {
   "codemirror_mode": {
    "name": "ipython",
    "version": 3
   },
   "file_extension": ".py",
   "mimetype": "text/x-python",
   "name": "python",
   "nbconvert_exporter": "python",
   "pygments_lexer": "ipython3",
   "version": "3.6.8"
  }
 },
 "nbformat": 4,
 "nbformat_minor": 4
}
